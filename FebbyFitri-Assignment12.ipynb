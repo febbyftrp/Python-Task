{
  "nbformat": 4,
  "nbformat_minor": 0,
  "metadata": {
    "colab": {
      "name": "Febby-Assignment12.ipynb",
      "provenance": [],
      "authorship_tag": "ABX9TyMo8lhwnJ4/Gwl05rNY87V0",
      "include_colab_link": true
    },
    "kernelspec": {
      "name": "python3",
      "display_name": "Python 3"
    }
  },
  "cells": [
    {
      "cell_type": "markdown",
      "metadata": {
        "id": "view-in-github",
        "colab_type": "text"
      },
      "source": [
        "<a href=\"https://colab.research.google.com/github/febbyftrp/Python-Task/blob/main/FebbyFitri-Assignment12.ipynb\" target=\"_parent\"><img src=\"https://colab.research.google.com/assets/colab-badge.svg\" alt=\"Open In Colab\"/></a>"
      ]
    },
    {
      "cell_type": "code",
      "metadata": {
        "id": "UzXe3ewm_OOo"
      },
      "source": [
        "import numpy as np"
      ],
      "execution_count": 5,
      "outputs": []
    },
    {
      "cell_type": "code",
      "metadata": {
        "id": "5s8VhVur_dgo"
      },
      "source": [
        "def ploss(d,f):\n",
        "  pldb=-22.75 + (20*np.log10(d)) + (20*np.log10(f))\n",
        "  plnum=LtN(-pldb)\n",
        "  return pldb,plnum"
      ],
      "execution_count": 6,
      "outputs": []
    },
    {
      "cell_type": "code",
      "metadata": {
        "id": "dIwb8HKT_dpr"
      },
      "source": [
        "def lp(d,fc,hr,ht,area):\n",
        "\n",
        "#d = jarak antara pengirim dan penerima (dalam kilometer)\n",
        "#fc = frekuensi dalam MHz (range antara 150 MHz s.d. 2000 MHz)\n",
        "#hr = tinggi antenna penerima dalam meter (range 1 s.d. 30 meter)\n",
        "#hT = tinggi antenna pengirim dalam meter (range 30 s.d. 200 meter)\n",
        "#area = urban, suburban, open\n",
        "\n",
        "  #C1 & C2 value\n",
        "  if fc in range (400,1500):\n",
        "    C1 = 69.55\n",
        "    C2 = 26.16\n",
        "  elif fc in range (1501,2000):\n",
        "    C1 = 46.3\n",
        "    C2 = 33.9\n",
        "\n",
        "  #Calculating each area\n",
        "  # 1 = urban area \n",
        "  # 2 = suburban area\n",
        "  # 3 = open area\n",
        "  if area == 1:\n",
        "    Cm = 0\n",
        "  elif area == 2:\n",
        "    Cm = (-2*(np.log10(fc/28))**2) - 5.4\n",
        "  elif area == 3:\n",
        "    Cm = (-4.78*(np.log10(fc))**2) + (18.33*np.log10(fc)) - 40.94\n",
        "\n",
        "  #Calculating ahr value\n",
        "  ahr = ((1.1*np.log10(fc)-0.7)*hr)-((1.56*np.log10(fc))-0.8) \n",
        "  \n",
        "  #Calculating LP value\n",
        "  Lp = C1 + (C2*np.log10(fc)) - (13.83*np.log10(ht)) - ahr + ((44.9-(6.55*np.log10(ht)))*np.log10(d)) + Cm\n",
        "\n",
        "  return Lp"
      ],
      "execution_count": 7,
      "outputs": []
    },
    {
      "cell_type": "code",
      "metadata": {
        "colab": {
          "base_uri": "https://localhost:8080/"
        },
        "id": "MiBciVhCkR_D",
        "outputId": "afab2ca8-dc26-4472-b36b-c943e3be3163"
      },
      "source": [
        "Lpval = lp(8,1520,15,120,3)\n",
        "print(\"The Result is \",Lpval, \"dB\")"
      ],
      "execution_count": 8,
      "outputs": [
        {
          "output_type": "stream",
          "text": [
            "The Result is  84.81242152569766 dB\n"
          ],
          "name": "stdout"
        }
      ]
    }
  ]
}