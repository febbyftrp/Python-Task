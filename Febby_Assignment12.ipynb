{
  "nbformat": 4,
  "nbformat_minor": 0,
  "metadata": {
    "colab": {
      "name": "Febby-Assignment12.ipynb",
      "provenance": [],
      "authorship_tag": "ABX9TyNwLiN97ElmprwBDzkZFxMM",
      "include_colab_link": true
    },
    "kernelspec": {
      "name": "python3",
      "display_name": "Python 3"
    }
  },
  "cells": [
    {
      "cell_type": "markdown",
      "metadata": {
        "id": "view-in-github",
        "colab_type": "text"
      },
      "source": [
        "<a href=\"https://colab.research.google.com/github/febbyftrp/Python-Task/blob/main/Febby_Assignment12.ipynb\" target=\"_parent\"><img src=\"https://colab.research.google.com/assets/colab-badge.svg\" alt=\"Open In Colab\"/></a>"
      ]
    },
    {
      "cell_type": "code",
      "metadata": {
        "id": "UzXe3ewm_OOo"
      },
      "source": [
        "import numpy as np"
      ],
      "execution_count": 1,
      "outputs": []
    },
    {
      "cell_type": "code",
      "metadata": {
        "id": "5s8VhVur_dgo"
      },
      "source": [
        "def ploss(d,f):\n",
        "  pldb=-22.75 + (20*np.log10(d)) + (20*np.log10(f))\n",
        "  plnum=LtN(-pldb)\n",
        "  return pldb,plnum"
      ],
      "execution_count": 2,
      "outputs": []
    },
    {
      "cell_type": "code",
      "metadata": {
        "id": "dIwb8HKT_dpr"
      },
      "source": [
        "def lp(d,fc,hr,ht,area):\n",
        "\n",
        "#d = jarak antara pengirim dan penerima (dalam kilometer)\n",
        "#fc = frekuensi dalam MHz (range antara 150 MHz s.d. 2000 MHz)\n",
        "#hr = tinggi antenna penerima dalam meter (range 1 s.d. 30 meter)\n",
        "#hT = tinggi antenna pengirim dalam meter (range 30 s.d. 200 meter)\n",
        "#area = urban, suburban, open\n",
        "\n",
        "  #C1 & C2 value\n",
        "  if fc in range (400,1500):\n",
        "    c1 = 69.55\n",
        "    c2 = 26.16\n",
        "  elif fc in range (1501,2000):\n",
        "    c1 = 46.3\n",
        "    c2 = 33.9\n",
        "\n",
        "  #Calculating each area\n",
        "  # 1 = urban\n",
        "  # 2 = suburban\n",
        "  # 3 = open\n",
        "  if area == 1:\n",
        "    cm = 0\n",
        "  elif area == 2:\n",
        "    cm = (-2*(np.log10(fc/28))**2) - 5.4\n",
        "  elif area == 3:\n",
        "    cm = (-4.78*(np.log10(fc))**2) + (18.33*np.log10(fc)) - 40.94\n",
        "\n",
        "  #Calculating ahr value\n",
        "  ahr = ((1.1*np.log10(fc)-0.7)*hr)-((1.56*np.log10(fc))-0.8) \n",
        "  \n",
        "  #Calculating LP value\n",
        "  Lp = c1 + (c2*np.log10(fc)) - (13.83*np.log10(ht)) - ahr + ((44.9-(6.55*np.log10(ht)))*np.log10(d)) + cm\n",
        "\n",
        "  return Lp"
      ],
      "execution_count": 3,
      "outputs": []
    },
    {
      "cell_type": "code",
      "metadata": {
        "colab": {
          "base_uri": "https://localhost:8080/"
        },
        "id": "MiBciVhCkR_D",
        "outputId": "bcabc8b4-7f72-4c11-ce97-86bb23e04560"
      },
      "source": [
        "lpval = lp(8,500,15,120,3)\n",
        "print(\"The Result is \",lpval, \"dB\")"
      ],
      "execution_count": 4,
      "outputs": [
        {
          "output_type": "stream",
          "text": [
            "The Result is  82.7397537311202 dB\n"
          ],
          "name": "stdout"
        }
      ]
    }
  ]
}